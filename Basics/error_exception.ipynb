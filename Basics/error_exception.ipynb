{
 "cells": [
  {
   "cell_type": "code",
   "execution_count": null,
   "metadata": {},
   "outputs": [],
   "source": [
    "\"\"\"\n",
    "There are (at least) two distinguishable kinds of errors: syntax errors and exceptions.\n",
    "\"\"\"\n",
    "\n",
    "# Syntax errors\n",
    "# also known as parsing errors\n",
    "while True print('Hello world')\n",
    "\n",
    "\"\"\"\n",
    "The parser repeats the offending line and displays little arrows pointing at the token in the line\n",
    "where the error was detected. The error may be caused by the absence of a token\n",
    "before the indicated token. In the example, the error is detected at the function print(),\n",
    "since a colon (':') is missing before it.\n",
    "File name and line number are printed so you know where to look in case the input came from a script\n",
    "\"\"\""
   ]
  },
  {
   "cell_type": "code",
   "execution_count": null,
   "metadata": {},
   "outputs": [],
   "source": [
    "\"\"\"\n",
    "Exceptions\n",
    "Even if a statement or expression is syntactically correct, it may cause an error\n",
    "when an attempt is made to execute it. Errors detected during execution are called exceptions\n",
    "These are not unconditionally fatal\n",
    "\"\"\"\n",
    "\n",
    "# Example 1\n",
    "# 10 * (1/0)\n",
    "# ZeroDivisionError: division by zero\n",
    "\n",
    "# Example 2\n",
    "# 4 + spam*3\n",
    "# NameError: name 'spam' is not defined\n",
    "\n",
    "# Example 3\n",
    "'2' + 2\n",
    "# TypeError: can only concatenate str (not \"int\") to str\n",
    "\n",
    "\"\"\"\n",
    "The last line of the error message indicates what happened.\n",
    "The string printed as the exception type is the name of the built-in exception that occurred.\n",
    "This is true for all built-in exceptions, but need not be true for user-defined exceptions\n",
    "(although it is a useful convention).\n",
    "Standard exception names are built-in identifiers (not reserved keywords).\n",
    "\n",
    "The preceding part of the error message shows the context where the exception occurred,\n",
    "in the form of a stack traceback. In general, it contains a stack traceback listing source lines;\n",
    "however, it will not display lines read from standard input.\n",
    "\"\"\""
   ]
  }
 ],
 "metadata": {
  "kernelspec": {
   "display_name": "Python 3",
   "language": "python",
   "name": "python3"
  },
  "language_info": {
   "codemirror_mode": {
    "name": "ipython",
    "version": 3
   },
   "file_extension": ".py",
   "mimetype": "text/x-python",
   "name": "python",
   "nbconvert_exporter": "python",
   "pygments_lexer": "ipython3",
   "version": "3.12.7"
  }
 },
 "nbformat": 4,
 "nbformat_minor": 2
}
